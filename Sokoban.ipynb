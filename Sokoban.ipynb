{
  "cells": [
    {
      "cell_type": "markdown",
      "metadata": {
        "id": "view-in-github",
        "colab_type": "text"
      },
      "source": [
        "<a href=\"https://colab.research.google.com/github/y-jacobs/RL_Project/blob/main/Sokoban.ipynb\" target=\"_parent\"><img src=\"https://colab.research.google.com/assets/colab-badge.svg\" alt=\"Open In Colab\"/></a>"
      ]
    },
    {
      "cell_type": "markdown",
      "metadata": {
        "id": "dSvjwmu3vPMR"
      },
      "source": [
        "# Final Project - Reinforcements Learning\n",
        "Hello dear students,<br> this is the template notebook. Please click on the \"File\" tab and then on \"Save a copy into drive\".\n",
        "\n",
        "---\n",
        "<br>\n",
        "\n",
        "### Name and ID:\n",
        "Student 1: Or Gottman\n",
        "<br>\n",
        "Student 2: Yahel Jacobs\n",
        "<br><br>\n",
        "<img src=\"https://play-lh.googleusercontent.com/e_oKlKPISbgdzut1H9opevS7-LTB8-8lsmpCdMkhlnqFenZhpjxbLmx7l158-xQQCIY\">\n",
        "\n",
        "### https://github.com/mpSchrader/gym-sokoban"
      ]
    },
    {
      "cell_type": "markdown",
      "metadata": {
        "id": "4T3qcykHFi15"
      },
      "source": [
        "# Installs"
      ]
    },
    {
      "cell_type": "code",
      "execution_count": null,
      "metadata": {
        "id": "2dah0RrY9Kmj"
      },
      "outputs": [],
      "source": [
        "%%capture\n",
        "!sudo apt-get update\n",
        "!sudo apt-get install -y xvfb ffmpeg freeglut3-dev\n",
        "!pip install 'imageio==2.4.0'\n",
        "!pip install gym\n",
        "!pip install pygame\n",
        "!apt-get install python-opengl -y\n",
        "!apt install xvfb -y\n",
        "!pip install pyvirtualdisplay\n",
        "!pip install piglet\n",
        "!pip install gym\n",
        "!apt-get install python-opengl -y\n",
        "!apt install xvfb -y\n",
        "!pip install gym_sokoban\n",
        "!git clone https://github.com/avivg7/sokoban-so.git\n",
        "!unzip /content/sokoban-so/Compress.zip"
      ]
    },
    {
      "cell_type": "markdown",
      "metadata": {
        "id": "yHbKbI7BwIwv"
      },
      "source": [
        "# Imports"
      ]
    },
    {
      "cell_type": "code",
      "execution_count": null,
      "metadata": {
        "id": "1cNdWkV49OqN"
      },
      "outputs": [],
      "source": [
        "import numpy as np\n",
        "import gym\n",
        "from gym import logger as gymlogger\n",
        "from gym.utils import seeding\n",
        "from gym import error, spaces, utils\n",
        "gymlogger.set_level(40) # error only\n",
        "from soko_pap import *\n",
        "import glob\n",
        "import io\n",
        "import base64\n",
        "import os\n",
        "import random\n",
        "import matplotlib.pyplot as plt\n",
        "%matplotlib inline\n",
        "import math\n",
        "import glob\n",
        "from pyvirtualdisplay import Display\n",
        "from IPython.display import HTML\n",
        "from IPython import display as ipythondisplay\n",
        "import pygame\n",
        "import pyvirtualdisplay\n",
        "import imageio\n",
        "import IPython\n",
        "import time"
      ]
    },
    {
      "cell_type": "markdown",
      "metadata": {
        "id": "J7bJeRHbwMIj"
      },
      "source": [
        "# Display utils\n",
        "The cell below contains the video display configuration. No need to make changes here."
      ]
    },
    {
      "cell_type": "code",
      "execution_count": null,
      "metadata": {
        "id": "z41WGwQt9i7_"
      },
      "outputs": [],
      "source": [
        "def embed_mp4(filename):\n",
        "  \"\"\"Embeds an mp4 file in the notebook.\"\"\"\n",
        "  video = open(filename,'rb').read()\n",
        "  b64 = base64.b64encode(video)\n",
        "  tag = '''\n",
        "  <video width=\"640\" height=\"480\" controls>\n",
        "    <source src=\"data:video/mp4;base64,{0}\" type=\"video/mp4\">\n",
        "  Your browser does not support the video tag.\n",
        "  </video>'''.format(b64.decode())\n",
        "\n",
        "  return IPython.display.HTML(tag)\n",
        "display = pyvirtualdisplay.Display(visible=0, size=(1400, 900)).start()"
      ]
    },
    {
      "cell_type": "markdown",
      "metadata": {
        "id": "oyJXH2IO72xF"
      },
      "source": [
        "Function - given an environment it will print us the details about observation, actions, agent's position and boxes locations"
      ]
    },
    {
      "cell_type": "code",
      "execution_count": null,
      "metadata": {
        "id": "1UwaHk7t7eIj"
      },
      "outputs": [],
      "source": [
        "def print_env_det(env):\n",
        "  print(f'Observation space: {env.observation_space}'\n",
        "      f'\\nAction space: {env.action_space}'\n",
        "      f'\\nPlayer position:{env.player_position}'\n",
        "      f'\\nBox location: {find_box_location(env)}')"
      ]
    },
    {
      "cell_type": "markdown",
      "metadata": {
        "id": "10ndmX86l4LJ"
      },
      "source": [
        "Function - given an environment it will return the indexes position and boxes locations"
      ]
    },
    {
      "cell_type": "code",
      "execution_count": null,
      "metadata": {
        "id": "1bfAeHJmlufr"
      },
      "outputs": [],
      "source": [
        "def find_box_location(env):\n",
        "    idx = np.argmax(env.room_state == 4)\n",
        "    if env.room_state.flat[idx] == 4:\n",
        "        return np.unravel_index(idx, env.room_state.shape)\n",
        "    return None"
      ]
    },
    {
      "cell_type": "code",
      "source": [
        "def find_agent_location(env):\n",
        "    idx = np.argmax(env.room_state == 5)\n",
        "    if env.room_state.flat[idx] == 5:\n",
        "        return np.unravel_index(idx, env.room_state.shape)\n",
        "    return None"
      ],
      "metadata": {
        "id": "3Gb-p7OiSlNt"
      },
      "execution_count": null,
      "outputs": []
    },
    {
      "cell_type": "markdown",
      "source": [
        "# Download Models"
      ],
      "metadata": {
        "id": "c9i3BNcn5Xuz"
      }
    },
    {
      "cell_type": "code",
      "source": [
        "!gdown 13XOA4ALp2SiCW8GjNW6rl18g4R0r0Q9n # actor\n",
        "!gdown 13XrLMZX1Xg5FmZjb8WEo5YIA0TCJETCw # critic\n",
        "!gdown 1-4ZydsrvK7vX9oAhbdpzhp4bAPs5Aa3z # DQN\n"
      ],
      "metadata": {
        "colab": {
          "base_uri": "https://localhost:8080/"
        },
        "id": "6gNe2XkS5XEp",
        "outputId": "cc9903dc-82f7-4cb3-8143-254f75fe11ff"
      },
      "execution_count": null,
      "outputs": [
        {
          "output_type": "stream",
          "name": "stdout",
          "text": [
            "Downloading...\n",
            "From: https://drive.google.com/uc?id=13XOA4ALp2SiCW8GjNW6rl18g4R0r0Q9n\n",
            "To: /content/SOKOBAN_actor_weight.h5\n",
            "100% 16.1M/16.1M [00:00<00:00, 191MB/s]\n",
            "Downloading...\n",
            "From: https://drive.google.com/uc?id=13XrLMZX1Xg5FmZjb8WEo5YIA0TCJETCw\n",
            "To: /content/SOKOBAN_critic_weight.h5\n",
            "100% 1.31M/1.31M [00:00<00:00, 126MB/s]\n",
            "Downloading...\n",
            "From: https://drive.google.com/uc?id=1-4ZydsrvK7vX9oAhbdpzhp4bAPs5Aa3z\n",
            "To: /content/SOKOBAN_DQN_weight.h5\n",
            "100% 16.1M/16.1M [00:00<00:00, 101MB/s] \n"
          ]
        }
      ]
    },
    {
      "cell_type": "markdown",
      "metadata": {
        "id": "__K3hWM6VqtR"
      },
      "source": [
        "# Feeling the Env"
      ]
    },
    {
      "cell_type": "markdown",
      "metadata": {
        "id": "tDaTYUJ4iufr"
      },
      "source": [
        "## EX1 - FIX SCENARIO -  PUSH & PULL - ONE BOX"
      ]
    },
    {
      "cell_type": "markdown",
      "source": [
        "###EX1 - Train Actor-Critic"
      ],
      "metadata": {
        "id": "bxsTiniCyX04"
      }
    },
    {
      "cell_type": "code",
      "execution_count": null,
      "metadata": {
        "id": "Vqa7N7WS9M8G"
      },
      "outputs": [],
      "source": [
        "#=============== DO NOT DELETE ===============\n",
        "random.seed(2)\n",
        "sok = PushAndPullSokobanEnv(dim_room=(7, 7),num_boxes=1 ,max_steps=500)\n",
        "# ============================================"
      ]
    },
    {
      "cell_type": "code",
      "execution_count": null,
      "metadata": {
        "colab": {
          "base_uri": "https://localhost:8080/",
          "height": 337
        },
        "id": "0hRklyCV55JZ",
        "outputId": "f80d5789-5715-44f5-801b-7564daa186d3"
      },
      "outputs": [
        {
          "output_type": "stream",
          "name": "stdout",
          "text": [
            "Observation space: Box(0.0, 255.0, (112, 112, 3), float32)\n",
            "Action space: Discrete(13)\n",
            "Player position:[1 1]\n",
            "Box location: (2, 2)\n"
          ]
        },
        {
          "output_type": "display_data",
          "data": {
            "text/plain": [
              "<Figure size 432x288 with 1 Axes>"
            ],
            "image/png": "[encoded data removed]"
          },
          "metadata": {
            "needs_background": "light"
          }
        }
      ],
      "source": [
        "screen = sok.render(mode='rgb_array')\n",
        "plt.imshow(sok.render('rgb_array'))\n",
        "observation, reward, done, _ = sok.step(1)\n",
        "print_env_det(sok)"
      ]
    },
    {
      "cell_type": "code",
      "source": [
        "import gym\n",
        "import random\n",
        "import os\n",
        "import numpy as np\n",
        "from tensorflow import keras\n",
        "from collections      import deque\n",
        "from keras.models     import Sequential\n",
        "from keras.layers     import Dense, Conv2D, Flatten\n",
        "from keras.optimizers import Adam\n",
        "from keras.engine.training import is_functional_model_init_params\n",
        "from sklearn.metrics import mean_squared_error\n",
        "from skimage import io, color"
      ],
      "metadata": {
        "id": "kG0XdqlIcNo3"
      },
      "execution_count": null,
      "outputs": []
    },
    {
      "cell_type": "code",
      "source": [
        "class ActorCriticAgent():\n",
        "    def __init__(self, state_size, action_size, build=True):\n",
        "        self.weight_actor_backup = \"/content/SOKOBAN_actor_weight.h5\"\n",
        "        self.weight_critic_backup = \"/content/SOKOBAN_critic_weight.h5\"\n",
        "        self.rewards_file = \"/content/drive/MyDrive/rl_project/rewards_a2c.txt\"\n",
        "        self.state_size = state_size\n",
        "        self.action_size = action_size\n",
        "        self.memory = deque(maxlen=2000)\n",
        "        self.learning_rate_actor = 0.001\n",
        "        self.learning_rate_critic = 0.005\n",
        "        self.gamma = 0.99\n",
        "        self.exploration_rate = 1.0\n",
        "        self.exploration_min = 0.01\n",
        "        self.exploration_decay = 0.995\n",
        "        if build:\n",
        "            self.actor = self._build_actor_model()\n",
        "            self.critic = self._build_critic_model()\n",
        "        else:\n",
        "            self.actor = keras.models.load_model(self.weight_actor_backup)\n",
        "            self.critic = keras.models.load_model(self.weight_critic_backup)\n",
        "\n",
        "    def _build_actor_model(self):\n",
        "        # Neural Net for Actor Model\n",
        "        model = Sequential()\n",
        "        model.add(Conv2D(64, kernel_size=3, activation='relu', input_shape=self.state_size, padding='same'))\n",
        "        model.add(Dense(32, activation='relu'))\n",
        "        model.add(Dense(16, activation='relu'))\n",
        "        model.add(Flatten())\n",
        "        model.add(Dense(self.action_size, activation='softmax'))\n",
        "        model.compile(loss='categorical_crossentropy', optimizer=Adam(lr=self.learning_rate_actor))\n",
        "        return model\n",
        "\n",
        "    def _build_critic_model(self):\n",
        "        # Neural Net for Critic Model\n",
        "        model = Sequential()\n",
        "        model.add(Conv2D(64, kernel_size=3, activation='relu', input_shape=self.state_size, padding='same'))\n",
        "        model.add(Dense(32, activation='relu'))\n",
        "        model.add(Dense(16, activation='relu'))\n",
        "        model.add(Flatten())\n",
        "        model.add(Dense(1, activation='linear'))\n",
        "        model.compile(loss='mse', optimizer=Adam(lr=self.learning_rate_critic))\n",
        "        return model\n",
        "\n",
        "    def save_model(self, reward=0):\n",
        "        self.actor.save(self.weight_actor_backup)\n",
        "        self.critic.save(self.weight_critic_backup)\n",
        "        # file = open(self.rewards_file, \"a\")\n",
        "        # file.write(str(reward) + ',')\n",
        "        # file.close()\n",
        "\n",
        "    def act(self, state):\n",
        "        if np.random.rand() <= self.exploration_rate:\n",
        "            return random.randrange(self.action_size)\n",
        "        action_prob = self.actor.predict(state)[0][0][0]\n",
        "        # print(action_prob, action_prob.shape)\n",
        "        return np.random.choice(self.action_size, p=action_prob)\n",
        "\n",
        "    def remember(self, state, action, reward, next_state, done, info):\n",
        "        self.memory.append((state, action, reward, next_state, done))\n",
        "\n",
        "    def replay(self, sample_batch_size):\n",
        "        if len(self.memory) < sample_batch_size:\n",
        "            return\n",
        "\n",
        "        sample_batch = random.sample(self.memory, sample_batch_size)\n",
        "\n",
        "        for state, action, reward, next_state, done in sample_batch:\n",
        "            target = reward\n",
        "\n",
        "            if not done:\n",
        "                # Update Critic\n",
        "                value_next = self.critic.predict(next_state)\n",
        "                value = self.critic.predict(state)\n",
        "                target = reward + self.gamma * value_next\n",
        "                advantage = target - value\n",
        "\n",
        "                # Update Actor\n",
        "                action_probs = self.actor.predict(state)[0]\n",
        "                action_one_hot = np.zeros(self.action_size)\n",
        "                action_one_hot[action] = 1\n",
        "                log_prob = np.log(action_probs[action])\n",
        "                loss_actor = -log_prob * advantage\n",
        "                loss_critic = np.mean(np.square(target - value)) # mean_squared_error(target, value)\n",
        "                loss = loss_actor + loss_critic\n",
        "\n",
        "                # Backpropagate loss through actor and critic networks\n",
        "                self.actor.train_on_batch(state, advantage * action_one_hot)\n",
        "                self.critic.train_on_batch(state, np.array([target]))\n",
        "\n",
        "                # Decay exploration rate\n",
        "                if self.exploration_rate > self.exploration_min:\n",
        "                    self.exploration_rate *= self.exploration_decay\n",
        "\n"
      ],
      "metadata": {
        "id": "_t4hFh_SXf_l"
      },
      "execution_count": null,
      "outputs": []
    },
    {
      "cell_type": "code",
      "source": [
        "reward_dict = {\n",
        "    'visited': -0.7,\n",
        "    'invalid': -0.8,\n",
        "    'val_move': -0.04,\n",
        "    'val_move_box': +0.6,\n",
        "    'goal': +1.0\n",
        "}"
      ],
      "metadata": {
        "id": "nZLxz-XrcX_O"
      },
      "execution_count": null,
      "outputs": []
    },
    {
      "cell_type": "code",
      "source": [
        "class Sokoban:\n",
        "    def __init__(self):\n",
        "        self.sample_batch_size = 64\n",
        "        self.episodes          = 3 # 1000\n",
        "        self.env               = sok\n",
        "        self.state_size        =  (80, 80, 1)\n",
        "        self.action_size       = self.env.action_space.n\n",
        "        self.agent             = ActorCriticAgent(self.state_size, self.action_size, False)\n",
        "\n",
        "\n",
        "    def run(self):\n",
        "        try:\n",
        "            for index_episode in range(self.episodes):\n",
        "                random.seed(2)\n",
        "                sok = PushAndPullSokobanEnv(dim_room=(7, 7),num_boxes=1 ,max_steps=500)\n",
        "                env = sok\n",
        "                state, reward, done, _ = sok.step(1)\n",
        "                state = color.rgb2gray(state[16:96, 16:96]).reshape(1, 80, 80, 1)\n",
        "\n",
        "                done = False\n",
        "                index = 0\n",
        "                total_reward = list()\n",
        "                while not done:\n",
        "                    visited = np.zeros((7, 7))\n",
        "                    action = self.agent.act(state)\n",
        "                    next_state, reward, done, info = env.step(action)\n",
        "                    if info['action.name'] == \"no operation\" or info[\"action.moved_player\"] == False:\n",
        "                        reward += reward_dict['invalid']\n",
        "                    if info[\"action.moved_box\"]:\n",
        "                        reward += reward_dict['val_move_box']\n",
        "                    if info[\"action.moved_player\"]:\n",
        "                        if visited[find_agent_location(env)] == 1:\n",
        "                            reward += reward_dict['visited']\n",
        "                        else:\n",
        "                            reward += reward_dict['val_move']\n",
        "                    else:\n",
        "                        reward += -0.4\n",
        "                    if \"all_boxes_on_target\" in info.keys():\n",
        "                        if info[\"all_boxes_on_target\"]:\n",
        "                            reward += reward_dict['goal']\n",
        "\n",
        "                    total_reward.append(reward)\n",
        "                    next_state = color.rgb2gray(next_state[16:96, 16:96]).reshape(1, 80, 80, 1)\n",
        "                    self.agent.remember(state, action, reward, next_state, done, info)\n",
        "                    state = next_state\n",
        "                    visited[find_agent_location(env)]=1\n",
        "                    index += 1\n",
        "                print(\"Episode {}# steps: {}, total reward: {}, last reward: {}, rewards_list: {}\".format(index_episode, index + 1, sum(total_reward), reward, total_reward))\n",
        "                self.agent.save_model(sum(total_reward))\n",
        "                self.agent.replay(self.sample_batch_size)\n",
        "        finally:\n",
        "            self.agent.save_model()\n"
      ],
      "metadata": {
        "id": "i94usiBkbRse"
      },
      "execution_count": null,
      "outputs": []
    },
    {
      "cell_type": "code",
      "source": [
        "# sokoban = Sokoban()\n",
        "# sokoban.run()"
      ],
      "metadata": {
        "id": "pqFpb9s5bkyz"
      },
      "execution_count": null,
      "outputs": []
    },
    {
      "cell_type": "markdown",
      "metadata": {
        "id": "6IXftqpcxw4w"
      },
      "source": [
        "### EX1 - Video test"
      ]
    },
    {
      "cell_type": "code",
      "execution_count": null,
      "metadata": {
        "id": "MF9LTmkst9wL",
        "colab": {
          "base_uri": "https://localhost:8080/",
          "height": 501
        },
        "outputId": "55fae5d0-dd0c-4aa5-eab2-7aab5bba823a"
      },
      "outputs": [
        {
          "output_type": "execute_result",
          "data": {
            "text/plain": [
              "<IPython.core.display.HTML object>"
            ],
            "text/html": [
              "\n",
              "  <video width=\"640\" height=\"480\" controls>\n",
              "    <source src=\"data:video/mp4;base64,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\" type=\"video/mp4\">\n",
              "  Your browser does not support the video tag.\n",
              "  </video>"
            ]
          },
          "metadata": {},
          "execution_count": 115
        }
      ],
      "source": [
        "random.seed(2)\n",
        "sok = PushAndPullSokobanEnv(dim_room=(7, 7),num_boxes=1 ,max_steps=500)\n",
        "env = sok\n",
        "state, reward, done, _ = sok.step(1)\n",
        "\n",
        "agent = ActorCriticAgent((80, 80, 1), env.action_space.n, False)\n",
        "\n",
        "state = color.rgb2gray(state[16:96, 16:96]).reshape(1, 80, 80, 1)\n",
        "start_time = time.time()\n",
        "done = False\n",
        "iter = 0\n",
        "video_filename = 'imageio.mp4'\n",
        "with imageio.get_writer(video_filename, fps=60) as video:\n",
        "  while (iter < 10) or not done:\n",
        "    time_passed = int(time.time() - start_time)\n",
        "    if done or time_passed > 3:\n",
        "      break\n",
        "    iter +=1\n",
        "    action = agent.act(state)\n",
        "    next_state, reward, done, info = env.step(action)\n",
        "    next_state = color.rgb2gray(next_state[16:96, 16:96]).reshape(1, 80, 80, 1)\n",
        "    video.append_data(env.render(mode='rgb_array'))\n",
        "embed_mp4(video_filename)"
      ]
    },
    {
      "cell_type": "markdown",
      "metadata": {
        "id": "mOt9e38LiUX_"
      },
      "source": [
        "## EX2 - PUSH & PULL - ONE BOX"
      ]
    },
    {
      "cell_type": "markdown",
      "source": [
        "###EX2 - Train DQN"
      ],
      "metadata": {
        "id": "Zu-HOLPP0NJM"
      }
    },
    {
      "cell_type": "code",
      "execution_count": null,
      "metadata": {
        "id": "QuO5Vz6X9KFP"
      },
      "outputs": [],
      "source": [
        "#=============== DO NOT DELETE ===============\n",
        "sok_2 = PushAndPullSokobanEnv(dim_room=(7, 7),num_boxes=1 ,max_steps=500)\n",
        "# ============================================"
      ]
    },
    {
      "cell_type": "code",
      "execution_count": null,
      "metadata": {
        "id": "YzYaMz7drkE3",
        "colab": {
          "base_uri": "https://localhost:8080/",
          "height": 337
        },
        "outputId": "c6d1fd4c-3909-416e-f188-bfcde4e1adec"
      },
      "outputs": [
        {
          "output_type": "stream",
          "name": "stdout",
          "text": [
            "Observation space: Box(0.0, 255.0, (112, 112, 3), float32)\n",
            "Action space: Discrete(13)\n",
            "Player position:[4 1]\n",
            "Box location: (4, 2)\n"
          ]
        },
        {
          "output_type": "display_data",
          "data": {
            "text/plain": [
              "<Figure size 432x288 with 1 Axes>"
            ],
            "image/png": "[encoded data removed]"
          },
          "metadata": {
            "needs_background": "light"
          }
        }
      ],
      "source": [
        "screen = sok_2.render(mode='rgb_array')\n",
        "plt.imshow(sok_2.render('rgb_array'))\n",
        "observation, reward, done, _ = sok_2.step(1)\n",
        "print_env_det(sok_2)"
      ]
    },
    {
      "cell_type": "code",
      "source": [
        "import gym\n",
        "import random\n",
        "import os\n",
        "import numpy as np\n",
        "from tensorflow import keras\n",
        "from collections      import deque\n",
        "from keras.models     import Sequential\n",
        "from keras.layers     import Dense, Conv2D, Flatten\n",
        "from keras.optimizers import Adam\n",
        "from keras.engine.training import is_functional_model_init_params\n",
        "from skimage import io, color"
      ],
      "metadata": {
        "id": "EAi4HUsk1Q6O"
      },
      "execution_count": null,
      "outputs": []
    },
    {
      "cell_type": "code",
      "source": [
        "from keras.engine.training import is_functional_model_init_params\n",
        "class DQNAgent():\n",
        "    def __init__(self, state_size, action_size, build=True):\n",
        "        self.weight_backup      = \"/content/SOKOBAN_DQN_weight.h5\"\n",
        "        self.rewards_file       = \"/content/drive/MyDrive/rl_project/rewards_DQN.txt\"\n",
        "        self.state_size         = state_size\n",
        "        self.action_size        = action_size\n",
        "        self.memory             = deque(maxlen=2000)\n",
        "        self.learning_rate      = 0.001\n",
        "        self.gamma              = 0.95\n",
        "        self.exploration_rate   = 1.0\n",
        "        self.exploration_min    = 0.01\n",
        "        self.exploration_decay  = 0.995\n",
        "        if build:\n",
        "            self.brain              = self._build_model()\n",
        "        else:\n",
        "            self.brain              = keras.models.load_model(self.weight_backup)\n",
        "\n",
        "    def _build_model(self):\n",
        "        # Neural Net for Deep-Q learning Model\n",
        "        model = Sequential()\n",
        "        model.add(Conv2D(64, kernel_size=3, activation='relu', input_shape=self.state_size, padding='same'))\n",
        "        model.add(Dense(32, activation='relu'))\n",
        "        model.add(Dense(16, activation='relu'))\n",
        "        model.add(Flatten())\n",
        "        model.add(Dense(self.action_size, activation='linear'))\n",
        "        model.compile(loss='mse', optimizer=Adam(lr=self.learning_rate))\n",
        "        '''if os.path.isfile(self.weight_backup):\n",
        "            model.load_weights(self.weight_backup)\n",
        "            self.exploration_rate = self.exploration_min'''\n",
        "        return model\n",
        "\n",
        "    def save_model(self, reward=0):\n",
        "            self.brain.save(self.weight_backup)\n",
        "            # open file for writing\n",
        "            # file = open(self.rewards_file, \"a\")\n",
        "            # file.write(str(reward) + ',')\n",
        "            # file.close()\n",
        "\n",
        "    def load_model(self):\n",
        "            self.brain.save(self.weight_backup)\n",
        "\n",
        "    def act(self, state):\n",
        "        if np.random.rand() <= self.exploration_rate:\n",
        "            return random.randrange(self.action_size)\n",
        "        act_values = self.brain.predict(state)\n",
        "        return np.argmax(act_values[0])\n",
        "\n",
        "    def remember(self, state, action, reward, next_state, done, info):\n",
        "        self.memory.append((state, action, reward, next_state, done, info))\n",
        "\n",
        "    def replay(self, sample_batch_size):\n",
        "        if len(self.memory) < sample_batch_size:\n",
        "            return\n",
        "        sample_batch = random.sample(self.memory, sample_batch_size)\n",
        "        for state, action, reward, next_state, done, info in sample_batch:\n",
        "            target = reward\n",
        "\n",
        "            if not done:\n",
        "              target = reward + self.gamma * np.amax(self.brain.predict(next_state)[0])\n",
        "            target_f = self.brain.predict(state)\n",
        "            target_f[0][action] = target\n",
        "            self.brain.fit(next_state, target_f, epochs=1, verbose=0)\n",
        "        if self.exploration_rate > self.exploration_min:\n",
        "            self.exploration_rate *= self.exploration_decay"
      ],
      "metadata": {
        "id": "YC2GkdlY2wi0"
      },
      "execution_count": null,
      "outputs": []
    },
    {
      "cell_type": "code",
      "source": [
        "reward_dict = {\n",
        "    'visited': -0.7,\n",
        "    'invalid': -0.8,\n",
        "    'val_move': -0.04,\n",
        "    'val_move_box': +0.6,\n",
        "    'goal': +1.0\n",
        "}"
      ],
      "metadata": {
        "id": "2Lf_fsIbOnr7"
      },
      "execution_count": null,
      "outputs": []
    },
    {
      "cell_type": "code",
      "source": [
        "class Sokoban:\n",
        "    def __init__(self):\n",
        "        self.sample_batch_size = 64\n",
        "        self.episodes          = 200\n",
        "        self.env               = sok_2\n",
        "\n",
        "        self.state_size        =  (80, 80, 1)\n",
        "        self.action_size       = self.env.action_space.n\n",
        "        self.agent             = DQNAgent(self.state_size, self.action_size, False)\n",
        "\n",
        "\n",
        "    def run(self):\n",
        "        try:\n",
        "            for index_episode in range(self.episodes):\n",
        "                state = self.env.reset()\n",
        "                state = color.rgb2gray(state[16:96, 16:96]).reshape(1, 80, 80, 1)\n",
        "\n",
        "                done = False\n",
        "                index = 0\n",
        "                total_reward = list()\n",
        "                while not done:\n",
        "                    visited = np.zeros((7, 7))\n",
        "                    action = self.agent.act(state)\n",
        "                    next_state, reward, done, info = self.env.step(action)\n",
        "                    if info['action.name'] == \"no operation\" or info[\"action.moved_player\"] == False:\n",
        "                        reward += reward_dict['invalid']\n",
        "                    if info[\"action.moved_box\"]:\n",
        "                        reward += reward_dict['val_move_box']\n",
        "                    if info[\"action.moved_player\"]:\n",
        "                        if visited[find_agent_location(env)] == 1:\n",
        "                            reward += reward_dict['visited']\n",
        "                        else:\n",
        "                            reward += reward_dict['val_move']\n",
        "                    else:\n",
        "                        reward += -0.4\n",
        "                    if \"all_boxes_on_target\" in info.keys():\n",
        "                        if info[\"all_boxes_on_target\"]:\n",
        "                            reward += reward_dict['goal']\n",
        "\n",
        "                    total_reward.append(reward)\n",
        "                    next_state = color.rgb2gray(next_state[16:96, 16:96]).reshape(1, 80, 80, 1)\n",
        "                    self.agent.remember(state, action, reward, next_state, done, info)\n",
        "                    state = next_state\n",
        "                    visited[find_agent_location(env)]=1\n",
        "                    index += 1\n",
        "                print(\"Episode {}# steps: {}, total reward: {}, last reward: {}, rewards_list: {}\".format(index_episode, index + 1, sum(total_reward), reward, total_reward))\n",
        "                self.agent.save_model(sum(total_reward))\n",
        "                self.agent.replay(self.sample_batch_size)\n",
        "        finally:\n",
        "            self.agent.save_model()\n"
      ],
      "metadata": {
        "id": "fE8VeDzQ23vr"
      },
      "execution_count": null,
      "outputs": []
    },
    {
      "cell_type": "code",
      "source": [
        "# sokoban = Sokoban()\n",
        "# sokoban.run()"
      ],
      "metadata": {
        "id": "2FSZRxTV2510"
      },
      "execution_count": null,
      "outputs": []
    },
    {
      "cell_type": "markdown",
      "metadata": {
        "id": "8-bPP5tn0IvJ"
      },
      "source": [
        "### EX2 - Video test"
      ]
    },
    {
      "cell_type": "code",
      "source": [
        "env = sok_2\n",
        "agent = DQNAgent((80, 80, 1), env.action_space.n, False)"
      ],
      "metadata": {
        "id": "Qu6r-i7B9TS-"
      },
      "execution_count": null,
      "outputs": []
    },
    {
      "cell_type": "code",
      "execution_count": null,
      "metadata": {
        "colab": {
          "base_uri": "https://localhost:8080/",
          "height": 501
        },
        "id": "A_gYNbckuIu3",
        "outputId": "e12dc92c-42f2-4710-e2d1-097382a020fb"
      },
      "outputs": [
        {
          "output_type": "execute_result",
          "data": {
            "text/plain": [
              "<IPython.core.display.HTML object>"
            ],
            "text/html": [
              "\n",
              "  <video width=\"640\" height=\"480\" controls>\n",
              "    <source src=\"data:video/mp4;base64,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\" type=\"video/mp4\">\n",
              "  Your browser does not support the video tag.\n",
              "  </video>"
            ]
          },
          "metadata": {},
          "execution_count": 131
        }
      ],
      "source": [
        "state = env.reset()\n",
        "state = color.rgb2gray(state[16:96, 16:96]).reshape(1, 80, 80, 1)\n",
        "start_time = time.time()\n",
        "done = False\n",
        "iter = 0\n",
        "video_filename = 'imageio.mp4'\n",
        "with imageio.get_writer(video_filename, fps=60) as video:\n",
        "  while (iter < 10) or not done:\n",
        "    time_passed = int(time.time() - start_time)\n",
        "    if done or time_passed > 3:\n",
        "      break\n",
        "    iter +=1\n",
        "    action = agent.act(state)\n",
        "    next_state, reward, done, info = env.step(action)\n",
        "    next_state = color.rgb2gray(next_state[16:96, 16:96]).reshape(1, 80, 80, 1)\n",
        "    video.append_data(env.render(mode='rgb_array'))\n",
        "embed_mp4(video_filename)"
      ]
    },
    {
      "cell_type": "markdown",
      "source": [
        "###Test"
      ],
      "metadata": {
        "id": "1f7W2IgM4P_0"
      }
    },
    {
      "cell_type": "code",
      "source": [
        "# import matplotlib.pyplot as plt\n",
        "\n",
        "# env = sok_2\n",
        "# agent = DQNAgent((80, 80, 1), env.action_space.n, False)\n",
        "\n",
        "# rewards = []\n",
        "# for i in range(100):\n",
        "#   state = env.reset()\n",
        "#   state = color.rgb2gray(state[16:96, 16:96]).reshape(1, 80, 80, 1)\n",
        "#   done = False\n",
        "#   reward_sum = 0\n",
        "#   while  not done:\n",
        "#     action = agent.act(state) # env.action_space.sample()\n",
        "#     next_state, reward, done, info = env.step(action)\n",
        "#     next_state = color.rgb2gray(next_state[16:96, 16:96]).reshape(1, 80, 80, 1)\n",
        "#     reward_sum += reward\n",
        "#   rewards.append(reward_sum)\n"
      ],
      "metadata": {
        "id": "GGDrCVjtOqhu"
      },
      "execution_count": null,
      "outputs": []
    },
    {
      "cell_type": "code",
      "source": [
        "# epochs = list(range(1, len(rewards) + 1))  # list of epochs from 1 to 100\n",
        "# # average_reward = sum(rewards) / len(rewards)  # calculate the average reward\n",
        "# plt.plot(epochs, rewards)  # create a line plot\n",
        "# # plt.axhline(y=average_reward, color='r', linestyle='--')  # add a red dashed line at the average reward\n",
        "# plt.xlabel('epochs')  # set x-axis label\n",
        "# plt.ylabel('Reward')  # set y-axis label\n",
        "# plt.title('Actor-Critic')  # set title of the graph\n",
        "# plt.show()  # show the graph"
      ],
      "metadata": {
        "colab": {
          "base_uri": "https://localhost:8080/",
          "height": 295
        },
        "id": "vpk_j1XXQX_X",
        "outputId": "3a77e14b-f975-4667-9a3a-7e88975c83c5"
      },
      "execution_count": null,
      "outputs": [
        {
          "output_type": "display_data",
          "data": {
            "text/plain": [
              "<Figure size 432x288 with 1 Axes>"
            ],
            "image/png": "[encoded data removed]"
          },
          "metadata": {
            "needs_background": "light"
          }
        }
      ]
    }
  ],
  "metadata": {
    "colab": {
      "provenance": [],
      "collapsed_sections": [
        "4T3qcykHFi15",
        "yHbKbI7BwIwv",
        "J7bJeRHbwMIj",
        "c9i3BNcn5Xuz",
        "1f7W2IgM4P_0"
      ],
      "machine_shape": "hm",
      "include_colab_link": true
    },
    "gpuClass": "standard",
    "kernelspec": {
      "display_name": "Python 3",
      "name": "python3"
    }
  },
  "nbformat": 4,
  "nbformat_minor": 0
}